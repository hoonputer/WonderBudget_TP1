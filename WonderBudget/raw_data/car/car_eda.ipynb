{
  "nbformat": 4,
  "nbformat_minor": 0,
  "metadata": {
    "colab": {
      "provenance": []
    },
    "kernelspec": {
      "name": "python3",
      "display_name": "Python 3"
    },
    "language_info": {
      "name": "python"
    }
  },
  "cells": [
    {
      "cell_type": "code",
      "execution_count": null,
      "metadata": {
        "id": "BFMXYsqMGerf"
      },
      "outputs": [],
      "source": [
        "# 라이브러리 불러오기\n",
        "import pandas as pd\n",
        "import numpy as np\n",
        "\n",
        "# 파일 업로드\n",
        "from google.colab import files\n",
        "files.upload()"
      ]
    },
    {
      "cell_type": "code",
      "source": [
        "# csv파일 읽어오기\n",
        "d0725 = pd.read_csv('0725.csv', encoding='cp949')\n",
        "d0726 = pd.read_csv('0726.csv', encoding='cp949')\n",
        "d0727 = pd.read_csv('0727.csv', encoding='cp949')\n",
        "d0728 = pd.read_csv('0728.csv', encoding='cp949')\n",
        "d0729 = pd.read_csv('0729.csv', encoding='cp949')\n",
        "d0730 = pd.read_csv('0730.csv', encoding='cp949')\n",
        "d0731 = pd.read_csv('0731.csv', encoding='cp949')\n",
        "d0801 = pd.read_csv('0801.csv', encoding='cp949')\n",
        "d0802 = pd.read_csv('0802.csv', encoding='cp949')\n",
        "d0803 = pd.read_csv('0803.csv', encoding='cp949')\n",
        "d0804 = pd.read_csv('0804.csv', encoding='cp949')\n",
        "d0805 = pd.read_csv('0805.csv', encoding='cp949')\n",
        "d0806 = pd.read_csv('0806.csv', encoding='cp949')\n",
        "d0807 = pd.read_csv('0807.csv', encoding='cp949')\n",
        "d0808 = pd.read_csv('0808.csv', encoding='cp949')\n",
        "d0809 = pd.read_csv('0809.csv', encoding='cp949')\n",
        "d0810 = pd.read_csv('0810.csv', encoding='cp949')\n",
        "d0811 = pd.read_csv('0811.csv', encoding='cp949')\n",
        "d0812 = pd.read_csv('0812.csv', encoding='cp949')\n",
        "d0813 = pd.read_csv('0813.csv', encoding='cp949')\n",
        "d0814 = pd.read_csv('0814.csv', encoding='cp949')\n",
        "d0815 = pd.read_csv('0815.csv', encoding='cp949')\n",
        "d0816 = pd.read_csv('0816.csv', encoding='cp949')\n",
        "d0817 = pd.read_csv('0817.csv', encoding='cp949')\n",
        "d0818 = pd.read_csv('0818.csv', encoding='cp949')\n",
        "d0819 = pd.read_csv('0819.csv', encoding='cp949')\n",
        "d0820 = pd.read_csv('0820.csv', encoding='cp949')\n",
        "d0821 = pd.read_csv('0821.csv', encoding='cp949')\n",
        "d0822 = pd.read_csv('0822.csv', encoding='cp949')\n",
        "d0823 = pd.read_csv('0823.csv', encoding='cp949')\n",
        "d0824 = pd.read_csv('0824.csv', encoding='cp949')\n",
        "d0825 = pd.read_csv('0825.csv', encoding='cp949')\n",
        "d0826 = pd.read_csv('0826.csv', encoding='cp949')\n",
        "d0827 = pd.read_csv('0827.csv', encoding='cp949')\n",
        "d0828 = pd.read_csv('0828.csv', encoding='cp949')\n",
        "d0829 = pd.read_csv('0829.csv', encoding='cp949')\n",
        "d0830 = pd.read_csv('0830.csv', encoding='cp949')\n",
        "d0831 = pd.read_csv('0831.csv', encoding='cp949')"
      ],
      "metadata": {
        "id": "ARas6COlHR15"
      },
      "execution_count": null,
      "outputs": []
    },
    {
      "cell_type": "code",
      "source": [
        "# 데이터 합치기(1)\n",
        "df1 = pd.concat([d0725, d0726, d0727, d0728, d0729, d0730, d0731,d0801, d0802, d0803])\n",
        "df2 = pd.concat([d0804, d0805, d0806, d0807,d0808, d0809, d0810, d0811, d0812, d0813])\n",
        "df3 = pd.concat([d0814, d0815, d0816, d0817, d0818, d0819, d0820,d0821, d0822, d0823])\n",
        "df4 = pd.concat([d0824, d0825, d0826, d0827, d0828, d0829, d0830, d0831])"
      ],
      "metadata": {
        "id": "PtaZL0ciNHQZ"
      },
      "execution_count": null,
      "outputs": []
    },
    {
      "cell_type": "code",
      "source": [
        "# 데이터 합치기(2)\n",
        "df = pd.concat([df1,df2,df3,df4])"
      ],
      "metadata": {
        "id": "SIAmHtAnRodq"
      },
      "execution_count": null,
      "outputs": []
    },
    {
      "cell_type": "code",
      "source": [
        "# column 이름 확인\n",
        "df.columns"
      ],
      "metadata": {
        "id": "jDGoTxQyR8bm"
      },
      "execution_count": null,
      "outputs": []
    },
    {
      "cell_type": "code",
      "source": [
        "# 필요없는 열 정리\n",
        "df = df[['date', 'week', 'car_name', 'price', 'engine', 'seater']]"
      ],
      "metadata": {
        "id": "0Q_JjjfXSPoG"
      },
      "execution_count": null,
      "outputs": []
    },
    {
      "cell_type": "code",
      "source": [
        "# 데이터타입 확인\n",
        "df.info()"
      ],
      "metadata": {
        "colab": {
          "base_uri": "https://localhost:8080/"
        },
        "id": "Tyjzs4rpSUbW",
        "outputId": "b36edfed-3a97-4bef-f72a-c9b5429e9e5f"
      },
      "execution_count": null,
      "outputs": [
        {
          "output_type": "stream",
          "name": "stdout",
          "text": [
            "<class 'pandas.core.frame.DataFrame'>\n",
            "Int64Index: 2326 entries, 0 to 63\n",
            "Data columns (total 6 columns):\n",
            " #   Column    Non-Null Count  Dtype  \n",
            "---  ------    --------------  -----  \n",
            " 0   date      1847 non-null   object \n",
            " 1   week      1847 non-null   object \n",
            " 2   car_name  1847 non-null   object \n",
            " 3   price     1847 non-null   object \n",
            " 4   engine    1847 non-null   object \n",
            " 5   seater    1847 non-null   float64\n",
            "dtypes: float64(1), object(5)\n",
            "memory usage: 127.2+ KB\n"
          ]
        }
      ]
    },
    {
      "cell_type": "code",
      "source": [
        "# price column 정리(12,345원 -> 12345)\n",
        "df['price'] = df['price'].str.replace(',','')\n",
        "df['price'] = df['price'].str.replace('원','')"
      ],
      "metadata": {
        "id": "BtvOEGH9StWt"
      },
      "execution_count": null,
      "outputs": []
    },
    {
      "cell_type": "code",
      "source": [
        "# 확인\n",
        "df.head()"
      ],
      "metadata": {
        "id": "7e3LIQ0TTjSJ"
      },
      "execution_count": null,
      "outputs": []
    },
    {
      "cell_type": "code",
      "source": [
        "# 결측치 정리\n",
        "df.dropna(inplace=True)"
      ],
      "metadata": {
        "id": "5LrZwSdgT-Gk"
      },
      "execution_count": null,
      "outputs": []
    },
    {
      "cell_type": "code",
      "source": [
        "# 데이터 타입 변경\n",
        "df['date'] = pd.to_datetime(df['date'])\n",
        "df['price'] = df['price'].astype('int')\n",
        "df['seater'] = df['seater'].astype('int')"
      ],
      "metadata": {
        "id": "xwREmf6zUeEs"
      },
      "execution_count": null,
      "outputs": []
    },
    {
      "cell_type": "code",
      "source": [
        "# 데이터타입 확인\n",
        "df.info()"
      ],
      "metadata": {
        "id": "z2-WpGqlUmW2"
      },
      "execution_count": null,
      "outputs": []
    },
    {
      "cell_type": "code",
      "source": [
        "# 최종 파일 저장\n",
        "df.to_csv('렌트카.csv', index=False)"
      ],
      "metadata": {
        "id": "54C0rexMVckh"
      },
      "execution_count": null,
      "outputs": []
    }
  ]
}